{
  "nbformat": 4,
  "nbformat_minor": 0,
  "metadata": {
    "colab": {
      "provenance": [],
      "authorship_tag": "ABX9TyNLwp3cyaYe9GY//HwwIYOG",
      "include_colab_link": true
    },
    "kernelspec": {
      "name": "python3",
      "display_name": "Python 3"
    },
    "language_info": {
      "name": "python"
    }
  },
  "cells": [
    {
      "cell_type": "markdown",
      "metadata": {
        "id": "view-in-github",
        "colab_type": "text"
      },
      "source": [
        "<a href=\"https://colab.research.google.com/github/Integrated-Intelligence-Lab/canonical_sets/blob/main/Grant_Applications_LUCID_V0.ipynb\" target=\"_parent\"><img src=\"https://colab.research.google.com/assets/colab-badge.svg\" alt=\"Open In Colab\"/></a>"
      ]
    },
    {
      "cell_type": "markdown",
      "source": [
        "## Applying LUCID to the first Application step of SOLVE"
      ],
      "metadata": {
        "id": "yLX6QI8YFetI"
      }
    },
    {
      "cell_type": "markdown",
      "source": [
        "We train a simple neural network on the categorical and boolean features of the first application step in the grant application of SOLVE. This means that the submission information in text (str) format will not be taken into account. We know that this is a big part of the information used when making the decision, yet we think that this first model will give us insight into the role of the legally protected features.\n",
        "\n",
        "To Do:\n",
        "*  Write script to get relevant features from the csv\n",
        "*  One hot encode the categorical features\n",
        "*  Train model on these features\n",
        "*  Infer the Canonical Set of this network by applying LUCID\n"
      ],
      "metadata": {
        "id": "GciSlmGLjwfD"
      }
    },
    {
      "cell_type": "code",
      "source": [
        "import numpy as np\n",
        "#import tensorflow as tf\n",
        "#import keras\n",
        "#from keras.models import Sequential\n",
        "#from keras.layers.core import Dense, Activation\n",
        "#from tensorflow.keras.optimizers import SGD\n",
        "#import time\n",
        "#import random\n",
        "#import matplotlib.pyplot as plt\n",
        "\n",
        "#The commented packages might become usefull later, no need to call them at this point"
      ],
      "metadata": {
        "id": "QtAr32ABQiPi"
      },
      "execution_count": 17,
      "outputs": []
    },
    {
      "cell_type": "code",
      "source": [
        "inputs_solve=(\n",
        "    ('Solution ID',(None)),\n",
        "    ('Challenge Name',(None)),\n",
        "    ('Date Created',(None)),\n",
        "    ('Date Updated',(None)),\n",
        "    ('Solution Status',(None)),\n",
        "    ('Team Lead First Name',(None)),\n",
        "    ('Team Lead Last Name',(None)),\n",
        "    ('Team Lead User ID',(None)),\n",
        "    ('Team Lead Email',(None)),\n",
        "    ('Team Lead location',(None)),\n",
        "    ('Solution Name',(None)),\n",
        "    ('One-line solution summary: Pitch your solution.',(None)),\n",
        "    ('Film your elevator pitch (link to video)',(None)),\n",
        "    ('What specific problem are you solving?',(None)),\n",
        "    ('What is your solution?',(None)),\n",
        "    ('Who does your solution serve, and in what ways will the solution impact their lives?',(None)),\n",
        "    ('Which dimension of the Challenge does your solution most closely address?',(None)),\n",
        "    ('Explain how the problem you are addressing, the solution you have designed, and the population you are serving align with the Challenge.',(None)),\n",
        "    ('In what city, town, or region is your solution team headquartered?',(None)),\n",
        "    ('What is your solution’s stage of development?',('Concept', 'Prototype', 'Pilot', 'Growth', 'Scale')),\n",
        "    ('Explain why you selected this stage of development for your solution. Who is the Team Lead for your solution?',(None)),\n",
        "    ('Is the Team Lead a resident of the United States?',('Yes', 'No', 'Prefer Not to Answer')),\n",
        "    ('What is the Team Lead’s race or ethnic group? Mark all that apply.',('American Indian or Alaska Native', 'Asian', 'Black or African American', 'Hispanic or Latino', 'Native Hawaiian or other Pacific Islander', 'White', 'Prefer not to answer', 'Write in option')),\n",
        "    ('What is the Team Lead’s gender?',('Female', 'Male', 'Trans Female/Trans Woman', 'Trans Male/Trans Man', 'Genderqueer/Gender Non-Conforming/Gender Fluid', 'Unsure/Questioning', 'Prefer Not to Answer', 'Prefer to write in')),\n",
        "    ('Did you take the MITx course “Business and Impact Planning for Social Enterprises?”',('Yes I completed the entire course', 'Yes I completed part of the course', 'No I didn\\'t take the course')),\n",
        "    ('How did you find out about Solve\\'s 2021 Global Challenges?',('Word of mouth', 'Google or other search engine', 'Email from Solve', 'Email from your network', 'Solve event', 'Solve\\'s MITx course \"Business and Impact Planning for Social Enterprises\"', 'Facebook', 'Instagram', 'LinkedIn', 'Email from Sloan Indigenous Graduate Partnership', 'Other (please specify)')),\n",
        "    ('Tell us more about how you found out about Solve’s 2021 Global Challenges.',(None)),\n",
        "    ('If your solution has a website or an app, provide the links here:',(None)),\n",
        "    ('If you have additional video content that explains your solution, provide a YouTube or Vimeo link here:',(None)),\n",
        "    ('Which of the following categories best describes your solution?',('A new technology', 'A new application of an existing technology', 'A new business model or process that relies on technology to be successful')),\n",
        "    ('Is your solution an active or past participant in another entrepreneurship network? Please share the names of the other entrepreneurship networks.',(None)),\n",
        "    ('What makes your solution innovative?',(None)),\n",
        "    ('Who are your solution’s competitors? Describe what makes your solution different from theirs.',(None)),\n",
        "    ('Who are your solution’s competitors? Describe what makes your solution different from theirs.',(None)),\n",
        "    ('Describe the core technology that powers your solution.',(None)),\n",
        "    ('Provide evidence that this technology works. Please cite your sources.',(None)),\n",
        "    ('Please select the technologies currently used in your solution:',('Ancestral Technology & Practices', 'Artificial Intelligence / Machine Learning', 'Audiovisual Media', 'Behavioral Technology', 'Big Data', 'Biomimicry', 'Biotechnology / Bioengineering', 'Blockchain', 'Crowd Sourced Service / Social Networks', 'GIS and Geospatial Technology', 'Imaging and Sensor Technology', 'Internet of Things', 'Manufacturing Technology', 'Materials Science', 'Robotics and Drones', 'Software and Mobile Applications', 'Virtual Reality / Augmented Reality')),\n",
        "    ('Does this technology introduce any risks? How are you addressing or mitigating these risks in your solution?',(None)),\n",
        "    ('What is your theory of change?',(None)),\n",
        "    ('Select the key characteristics of your target population.',('Women & Girls','Pregnant Women','LGBTQ+','Infants','Children & Adolescents','Elderly','Rural','Peri-Urban','Urban','Poor','Low-Income','Middle-Income','Refugees & Internally Displaced Persons','Minorities & Previously Excluded Populations','Persons with Disabilities')),\n",
        "    ('Which of the UN Sustainable Development Goals does your solution address?',(None)),\n",
        "    ('In which states / US territories do you currently operate?',(None)),\n",
        "    ('In which states / US territories will you be operating within the next year?',(None)),\n",
        "    ('How many people does your solution currently serve? How many will it serve in one year? In five years?',(None)),\n",
        "    ('What are your impact goals for the next year and the next five years, and -- importantly -- how will you achieve them?',(None)),\n",
        "    ('How are you measuring your progress toward your impact goals?',(None)),\n",
        "    ('What barriers currently exist for you to accomplish your goals in the next year and in the next five years?',(None)),\n",
        "    ('How do you plan to overcome these barriers?',(None)),\n",
        "    ('What type of organization is your solution team?',('For-profit, including B-Corp or similar models', 'Nonprofit', 'Hybrid of for-profit and nonprofit', 'Not registered as any organization', 'Other, including part of a larger organization (please explain below)')),\n",
        "    ('If you selected Other, please explain here.',(None)),\n",
        "    ('How many people work on your solution team?',(None)),\n",
        "    ('How long have you been working on your solution?',(None)),\n",
        "    ('How are you and your team well-positioned to deliver this solution?',(None)),\n",
        "    ('What is your approach to building a diverse, equitable, and inclusive leadership team?',(None)),\n",
        "    ('What organizations do you currently partner with, if any? How are you working with them?',(None)),\n",
        "    ('What is your business model?',(None)),\n",
        "    ('Do you primarily provide products or services directly to individuals, to other organizations, or to the government?',('Individual consumers or stakeholders (B2C)', 'Organizations (B2B)', 'Government (B2G)')),\n",
        "    ('What is your path to financial sustainability?',(None)),\n",
        "    ('If you have raised funds for your solution or are generating revenue, please provide details.',(None)),\n",
        "    ('If you seek to raise funds for your solution, please provide details.',(None)),\n",
        "    ('What are your estimated expenses for 2021?',(None)),\n",
        "    ('Why are you applying to Solve?',(None)),\n",
        "    ('In which of the following areas do you most need partners or support?',('Human Capital (e.g. sourcing talent, board development, etc.)','Business model (e.g. product-market fit, strategy & development)','Financial (e.g. improving accounting practices, pitching to investors)','Legal or Regulatory Matters','Public Relations (e.g. branding/marketing strategy, social and global media)','Monitoring & Evaluation (e.g. collecting/using data, measuring impact)','Product / Service Distribution (e.g. expanding client base)','Technology (e.g. software or hardware, web development/design, data analysis, etc.)')),\n",
        "    ('Please explain in more detail here.',(None)),\n",
        "    ('What organizations would you like to partner with, and how would you like to partner with them?',(None)),\n",
        "    ('Do you qualify for and would you like to be considered for the Robert Wood Johnson Foundation Prize? If you select Yes, explain how you are qualified for the prize in the additional question that appears.',('Yes', 'No')),\n",
        "    ('Explain how you are qualified for this prize. How will your team use Robert Wood Johnson Foundation Prize to advance your solution?',(None)),\n",
        "    ('Do you qualify for and would you like to be considered for The ASA Prize for Equitable Education? If you select Yes, explain how you are qualified for the prize in the additional question that appears.',('Yes', 'No')),\n",
        "    ('Explain how you are qualified for this prize. How will your team use The ASA Prize for Equitable Education to advance your solution?',(None)),\n",
        "    ('Do you qualify for and would you like to be considered for The Elevate Prize for Antiracist Technology? If you select Yes, explain how you are qualified for the prize in the additional question that appears.',('Yes', 'No')),\n",
        "    ('Explain how you are qualified for this prize. How will you use The Elevate Prize for Antiracist Technology to advance your solution?',(None)),\n",
        "    ('Do you qualify for and would you like to be considered for The GM Prize? If you select Yes, explain how you are qualified for the prize in the additional question that appears.',('Yes', 'No')),\n",
        "    ('Explain how you are qualified for this prize. How will your team use The GM Prize for Innovation in Refugee Inclusion to advance your solution?',(None)),\n",
        "    ('Do you qualify for and would you like to be considered for The HP Prize for Advancing Digital Equity? (bool)',('Yes', 'No')),\n",
        "    ('If you select Yes, explain how you are qualified for the prize in the additional question that appears.',(None)),\n",
        "    ('Explain how you are qualified for this prize. How will your team use The HP Prize for Advancing Digital Equity to advance your solution?',(None)),\n",
        "    ('Do you qualify for and would you like to be considered for the Innovation for Women Prize? (bool)',('Yes', 'No')),\n",
        "    ('If you select Yes, explain how you are qualified for the prize in the additional question that appears.',(None)),\n",
        "    ('Explain how you are qualified for this prize. How will your team use the Innovation for Women Prize to advance your solution?',(None)),\n",
        "    ('Do you qualify for and would you like to be considered for The AI for Humanity Prize? If you select Yes, explain how you are qualified for the prize in the additional question that appears.',('Yes', 'No')),\n",
        "    ('Explain how you are qualified for this prize. How will your team use The AI for Humanity Prize to advance your solution?',(None))\n",
        ")"
      ],
      "metadata": {
        "id": "j7dfwE4_p-M2"
      },
      "execution_count": 18,
      "outputs": []
    },
    {
      "cell_type": "code",
      "source": [
        "input_shape_solve = []\n",
        "for i in inputs_solve:\n",
        "  if i[1]!=None:\n",
        "    count = len(i[1 ])\n",
        "    input_shape_solve.append(count)\n",
        "input_dim_solve = sum(input_shape_solve)\n",
        "print('Data set: SOLVE')\n",
        "print(\"input_shape:\", input_shape_solve)\n",
        "print(\"input_dim:\", input_dim_solve)\n",
        "print()\n",
        "                                                                                                                                                                                                                                                                                                                                        \n",
        "outputs = (0, 1)  # (\"YES\", \"NO\")\n",
        "output_dim = 2  # len(outputs)\n",
        "print(\"output_dim:\", output_dim)\n",
        "print()"
      ],
      "metadata": {
        "colab": {
          "base_uri": "https://localhost:8080/"
        },
        "id": "aX-nyydlJMy1",
        "outputId": "322f176f-c4df-4cb5-b9b9-1423ee95e975"
      },
      "execution_count": 19,
      "outputs": [
        {
          "output_type": "stream",
          "name": "stdout",
          "text": [
            "Data set: SOLVE\n",
            "input_shape: [5, 3, 8, 8, 3, 11, 3, 17, 15, 5, 3, 8, 2, 2, 2, 2, 2, 2, 2]\n",
            "input_dim: 103\n",
            "\n",
            "output_dim: 2\n",
            "\n"
          ]
        }
      ]
    },
    {
      "cell_type": "code",
      "source": [
        "def prepare_data(raw_data):\n",
        "    \n",
        "    X = raw_data[:, :-1] #if the decision is the last column\n",
        "    y = raw_data[:, -1:] #if the decision is the last column\n",
        "    \n",
        "    # X: create one-hot encoded input vectors for our model\n",
        "    def flatten_inputs_for_model(inputs):\n",
        "        global inputs_solve\n",
        "        global input_shape_solve\n",
        "        global input_dim_solve\n",
        "\n",
        "        new_inputs = []\n",
        "\n",
        "        for i in range(len(input_shape_solve)):\n",
        "            features_of_this_type = input_shape[i]\n",
        "\n",
        "            for j in range(features_of_this_type):\n",
        "                feature_name = inputs_solve[i][1][j]\n",
        "\n",
        "                if feature_name == person_inputs[i]:\n",
        "                    new_inputs.append(1.)\n",
        "                else:\n",
        "                    new_inputs.append(0)\n",
        "        return new_inputs\n",
        "    \n",
        "    new_X = []\n",
        "    for project in range(len(X)):\n",
        "        formatted_X = flatten_inputs_for_model(X[project])\n",
        "        new_X.append(formatted_X)\n",
        "    new_X = np.array(new_X)\n",
        "    \n",
        "    # Transform the decision to a binary tuple\n",
        "    new_y = []\n",
        "    for i in range(len(y)):\n",
        "        if y[i] == \"YES\":\n",
        "            new_y.append((1, 0))\n",
        "        else:  # y[i] == \"NO\":\n",
        "            new_y.append((0, 1))\n",
        "    new_y = np.array(new_y)\n",
        "    \n",
        "    return (new_X, new_y)"
      ],
      "metadata": {
        "id": "08tY9euvQE7u"
      },
      "execution_count": 20,
      "outputs": []
    },
    {
      "cell_type": "code",
      "source": [
        "from sklearn.model_selection import train_test_split\n",
        "data_solve = np.genfromtxt('solve.csv', delimiter=', ', dtype=str, autostrip=True) #load your dataset here!\n",
        "print(\"Data count:\", len(data_solve))\n",
        "\n",
        "training_data, test_data = train_test_split(data_solve, test_size=0.25)\n",
        "print(\"Training data count:\", len(training_data))\n",
        "print(\"Test data count:\", len(test_data))\n",
        "\n",
        "X_train, y_train = prepare_data(training_data)\n",
        "X_test, y_test = prepare_data(test_data)\n",
        "\n",
        "percent = sum([i[0] for i in y_train])/len(y_train)\n",
        "print(\"Training data percentage that receives a positive answer\", percent*100, \"%\")\n",
        "\n",
        "print(\"Training data format example:\")\n",
        "print(X_train[4])  # random sample "
      ],
      "metadata": {
        "id": "Q_5qgpGhQdHg"
      },
      "execution_count": null,
      "outputs": []
    }
  ]
}