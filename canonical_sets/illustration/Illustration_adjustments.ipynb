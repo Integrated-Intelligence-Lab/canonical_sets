{
 "cells": [
  {
   "cell_type": "markdown",
   "metadata": {},
   "source": [
    "# Jupyter notebook to illustrate the adjustments"
   ]
  },
  {
   "cell_type": "markdown",
   "metadata": {},
   "source": []
  },
  {
   "cell_type": "code",
   "execution_count": 17,
   "metadata": {},
   "outputs": [],
   "source": [
    "import matplotlib.pyplot as plt\n",
    "\n",
    "import pandas as pd\n",
    "\n",
    "import sys\n",
    "sys.path.append(\"/Users/stighellemans/Desktop/Programming/Python/canonical_sets\")\n",
    "\n",
    "from canonical_sets import LUCIDGAN\n",
    "from canonical_sets.data import Adult\n",
    "from canonical_sets.illustration.adultclassifier import AdultClassifier"
   ]
  },
  {
   "cell_type": "markdown",
   "metadata": {},
   "source": [
    "## Training models"
   ]
  },
  {
   "cell_type": "markdown",
   "metadata": {},
   "source": [
    "### Training classifier"
   ]
  },
  {
   "cell_type": "code",
   "execution_count": null,
   "metadata": {},
   "outputs": [],
   "source": [
    "\n",
    "adult = Adult(test_path=\"local_path_to_test_adult.csv\", \n",
    "              train_path=\"local_path_to_train_adult.csv\",\n",
    "              preprocess=True,\n",
    "              features=[\"Age\", \"Capital Gain\"]\n",
    "           )\n",
    "\n",
    "adult_classifier = AdultClassifier(adult)\n",
    "\n",
    "\n",
    "\n",
    "# ### Training classifier ###\n",
    "# adult_classifier.train_adult_classifier(5)\n",
    "# adult_classifier.save_model(\"local_path_to_data_folder\", \"adultclassifier.pth\")\n",
    "\n",
    "### Loading classifier ####\n",
    "adult_classifier.load_model(\n",
    "    \"/local_path_to_adultclassifier.pth\"\n",
    ")\n",
    "\n",
    "\n",
    "\n"
   ]
  },
  {
   "cell_type": "markdown",
   "metadata": {},
   "source": [
    "### Training LUCID-GAN"
   ]
  },
  {
   "cell_type": "markdown",
   "metadata": {},
   "source": [
    "Previously, it wasn't possible to train the LUCID-GAN model if no conditional/conditions were provided."
   ]
  },
  {
   "cell_type": "code",
   "execution_count": null,
   "metadata": {},
   "outputs": [],
   "source": [
    "\n",
    "# LUCID-GAN\n",
    "adult_preds = adult_classifier.predict(adult.test_data)[:, 1]\n",
    "adult_test_data = adult.inverse_preprocess(adult.test_data)\n",
    "\n",
    "adult_data = pd.concat([adult_test_data, \n",
    "                        pd.DataFrame(adult_preds, columns=[\"preds\"]),\n",
    "                        adult.test_labels[\">50K\"].to_frame(name=\"labels\").astype(\"float32\")\n",
    "                        ], axis=1)\n",
    "\n",
    "\n",
    "model_name = \"adultlucidgan_with_labels.pth\"\n",
    "\n",
    "### training lucid gan ###\n",
    "adult_lucidgan = LUCIDGAN(epochs=2)\n",
    "\n",
    "adult_lucidgan.set_random_state(1234)\n",
    "#Without a conditional\n",
    "adult_lucidgan.fit(adult_data)\n",
    "\n",
    "\n",
    "adult_lucidgan.save(\n",
    "    path=\"local_path_to_data_folder\" + model_name\n",
    "    )\n",
    "\n",
    "\n",
    "plt.plot(adult_lucidgan.generator_loss, label = \"generator loss\")\n",
    "plt.plot(adult_lucidgan.reconstruction_loss, label = \"reconstruction loss\")\n",
    "plt.plot(adult_lucidgan.discriminator_loss, label = \"discriminator loss\")\n",
    "plt.legend()\n",
    "plt.show()"
   ]
  }
 ],
 "metadata": {
  "kernelspec": {
   "display_name": "lucid_gan",
   "language": "python",
   "name": "lucid_gan"
  },
  "language_info": {
   "codemirror_mode": {
    "name": "ipython",
    "version": 3
   },
   "file_extension": ".py",
   "mimetype": "text/x-python",
   "name": "python",
   "nbconvert_exporter": "python",
   "pygments_lexer": "ipython3",
   "version": "3.8.18"
  },
  "orig_nbformat": 4
 },
 "nbformat": 4,
 "nbformat_minor": 2
}
